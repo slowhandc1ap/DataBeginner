{
 "cells": [
  {
   "attachments": {},
   "cell_type": "markdown",
   "metadata": {},
   "source": [
    "### <font color = 'red'> การสร้าง DataFrame หลายคอลลั่มน์"
   ]
  },
  {
   "cell_type": "code",
   "execution_count": 5,
   "metadata": {},
   "outputs": [
    {
     "name": "stdout",
     "output_type": "stream",
     "text": [
      "===============================\n"
     ]
    },
    {
     "data": {
      "text/html": [
       "<div>\n",
       "<style scoped>\n",
       "    .dataframe tbody tr th:only-of-type {\n",
       "        vertical-align: middle;\n",
       "    }\n",
       "\n",
       "    .dataframe tbody tr th {\n",
       "        vertical-align: top;\n",
       "    }\n",
       "\n",
       "    .dataframe thead th {\n",
       "        text-align: right;\n",
       "    }\n",
       "</style>\n",
       "<table border=\"1\" class=\"dataframe\">\n",
       "  <thead>\n",
       "    <tr style=\"text-align: right;\">\n",
       "      <th></th>\n",
       "      <th>Name</th>\n",
       "      <th>High</th>\n",
       "    </tr>\n",
       "  </thead>\n",
       "  <tbody>\n",
       "    <tr>\n",
       "      <th>0</th>\n",
       "      <td>tanakorn</td>\n",
       "      <td>185</td>\n",
       "    </tr>\n",
       "    <tr>\n",
       "      <th>1</th>\n",
       "      <td>chockchai</td>\n",
       "      <td>184</td>\n",
       "    </tr>\n",
       "    <tr>\n",
       "      <th>2</th>\n",
       "      <td>supakan</td>\n",
       "      <td>170</td>\n",
       "    </tr>\n",
       "    <tr>\n",
       "      <th>3</th>\n",
       "      <td>napat</td>\n",
       "      <td>177</td>\n",
       "    </tr>\n",
       "  </tbody>\n",
       "</table>\n",
       "</div>"
      ],
      "text/plain": [
       "        Name High\n",
       "0   tanakorn  185\n",
       "1  chockchai  184\n",
       "2    supakan  170\n",
       "3      napat  177"
      ]
     },
     "execution_count": 5,
     "metadata": {},
     "output_type": "execute_result"
    }
   ],
   "source": [
    "import pandas as pd\n",
    "male = ['tanakorn' , 'chockchai','supakan','napat'] ## <<<<<<\n",
    "malehight = ['185','184','170','177']                   ## <<<< เชื่อมสอง list นี้ด้วย list zip\n",
    "\n",
    "data =list(zip(male,malehight))\n",
    "\n",
    "colsname =[ 'Name','High']\n",
    "df = pd.DataFrame(data,columns=colsname)\n",
    "\n",
    "print('===============================')\n",
    "\n",
    "df\n",
    "#81"
   ]
  },
  {
   "attachments": {},
   "cell_type": "markdown",
   "metadata": {},
   "source": [
    "การใส่ index "
   ]
  },
  {
   "cell_type": "code",
   "execution_count": 9,
   "metadata": {},
   "outputs": [
    {
     "data": {
      "text/html": [
       "<div>\n",
       "<style scoped>\n",
       "    .dataframe tbody tr th:only-of-type {\n",
       "        vertical-align: middle;\n",
       "    }\n",
       "\n",
       "    .dataframe tbody tr th {\n",
       "        vertical-align: top;\n",
       "    }\n",
       "\n",
       "    .dataframe thead th {\n",
       "        text-align: right;\n",
       "    }\n",
       "</style>\n",
       "<table border=\"1\" class=\"dataframe\">\n",
       "  <thead>\n",
       "    <tr style=\"text-align: right;\">\n",
       "      <th></th>\n",
       "      <th>name</th>\n",
       "      <th>heigh</th>\n",
       "      <th>summary</th>\n",
       "    </tr>\n",
       "  </thead>\n",
       "  <tbody>\n",
       "    <tr>\n",
       "      <th>a</th>\n",
       "      <td>tanakorn</td>\n",
       "      <td>185</td>\n",
       "      <td>30000</td>\n",
       "    </tr>\n",
       "    <tr>\n",
       "      <th>b</th>\n",
       "      <td>chockchai</td>\n",
       "      <td>184</td>\n",
       "      <td>24000</td>\n",
       "    </tr>\n",
       "    <tr>\n",
       "      <th>c</th>\n",
       "      <td>pornchai</td>\n",
       "      <td>198</td>\n",
       "      <td>23000</td>\n",
       "    </tr>\n",
       "    <tr>\n",
       "      <th>d</th>\n",
       "      <td>wera</td>\n",
       "      <td>187</td>\n",
       "      <td>16000</td>\n",
       "    </tr>\n",
       "  </tbody>\n",
       "</table>\n",
       "</div>"
      ],
      "text/plain": [
       "        name heigh summary\n",
       "a   tanakorn   185   30000\n",
       "b  chockchai   184   24000\n",
       "c   pornchai   198   23000\n",
       "d       wera   187   16000"
      ]
     },
     "execution_count": 9,
     "metadata": {},
     "output_type": "execute_result"
    }
   ],
   "source": [
    "import pandas as pd\n",
    "data = [\n",
    "    ['tanakorn' ,'185','30000'],\n",
    "    ['chockchai' , '184','24000'],\n",
    "    ['pornchai' , '198','23000'],\n",
    "    ['wera','187','16000']\n",
    "\n",
    "]\n",
    "\n",
    "colsname = ['name','heigh','summary']\n",
    "df = pd.DataFrame(data,columns=colsname,index=['a','b','c','d'])\n",
    "\n",
    "df['name']['b']\n",
    "df"
   ]
  },
  {
   "attachments": {},
   "cell_type": "markdown",
   "metadata": {},
   "source": [
    "### <font color = 'yellow' > Function shap จะทำหน้าที่ตรวจจำนวนเเถวเเล้วคอลั่มน์ของ Dataframe น้้น"
   ]
  },
  {
   "cell_type": "code",
   "execution_count": 11,
   "metadata": {},
   "outputs": [
    {
     "name": "stdout",
     "output_type": "stream",
     "text": [
      "        name heigh summary\n",
      "a   tanakorn   185   30000\n",
      "b  chockchai   184   24000\n",
      "c   pornchai   198   23000\n",
      "d       wera   187   16000\n"
     ]
    },
    {
     "data": {
      "text/plain": [
       "(4, 3)"
      ]
     },
     "execution_count": 11,
     "metadata": {},
     "output_type": "execute_result"
    }
   ],
   "source": [
    "import pandas as pd\n",
    "data = [\n",
    "    ['tanakorn' ,'185','30000'],\n",
    "    ['chockchai' , '184','24000'],\n",
    "    ['pornchai' , '198','23000'],\n",
    "    ['wera','187','16000']\n",
    "\n",
    "]\n",
    "\n",
    "colsname = ['name','heigh','summary']\n",
    "df = pd.DataFrame(data,columns=colsname,index=['a','b','c','d'])\n",
    "print(df)\n",
    "df.shape\n"
   ]
  },
  {
   "attachments": {},
   "cell_type": "markdown",
   "metadata": {},
   "source": [
    " ### <font color = 'yellow' >การตรวจสสอบ ชนิดข้อมูลของ DataFrame ด้วย dtype"
   ]
  },
  {
   "attachments": {},
   "cell_type": "markdown",
   "metadata": {},
   "source": [
    "กรณีที่เก็บข้อมูลเป็นจำนวนเต็ม จะได้ชนิดข้อมูลเป็น int64 อิงตามตัวเเปรที่เก็ยอยู่ใน Dataframe <br>\n",
    "ส่วนชนิดของ Dataframe คือ object"
   ]
  },
  {
   "cell_type": "code",
   "execution_count": 4,
   "metadata": {},
   "outputs": [
    {
     "name": "stdout",
     "output_type": "stream",
     "text": [
      "====================\n",
      "   0\n",
      "0  1\n",
      "1  3\n",
      "2  5\n",
      "3  6\n",
      "4  8\n",
      "====================\n",
      "0    int64\n",
      "dtype: object\n"
     ]
    }
   ],
   "source": [
    "import pandas as pd\n",
    "\n",
    "data = [1,3,5,6,8]\n",
    "df = pd.DataFrame(data)\n",
    "\n",
    "print('====================')\n",
    "print(df)\n",
    "print('====================')\n",
    "print(df.dtypes)"
   ]
  },
  {
   "cell_type": "code",
   "execution_count": 5,
   "metadata": {},
   "outputs": [
    {
     "name": "stdout",
     "output_type": "stream",
     "text": [
      "====================\n",
      "     0\n",
      "0  1.3\n",
      "1  3.0\n",
      "2  5.0\n",
      "3  6.0\n",
      "4  8.0\n",
      "====================\n",
      "0    float64\n",
      "dtype: object\n"
     ]
    }
   ],
   "source": [
    "import pandas as pd\n",
    "\n",
    "data = [1.3,3,5,6,8]\n",
    "df = pd.DataFrame(data)\n",
    "\n",
    "print('====================')\n",
    "print(df)\n",
    "print('====================')\n",
    "print(df.dtypes)"
   ]
  },
  {
   "cell_type": "code",
   "execution_count": 6,
   "metadata": {},
   "outputs": [
    {
     "name": "stdout",
     "output_type": "stream",
     "text": [
      "====================\n",
      "           0\n",
      "0   tanakorn\n",
      "1  chockchai\n",
      "2         bb\n",
      "====================\n",
      "0    object\n",
      "dtype: object\n"
     ]
    }
   ],
   "source": [
    "import pandas as pd\n",
    "\n",
    "data = ['tanakorn','chockchai','bb']\n",
    "df = pd.DataFrame(data)\n",
    "\n",
    "print('====================')\n",
    "print(df)\n",
    "print('====================')\n",
    "print(df.dtypes)"
   ]
  },
  {
   "attachments": {},
   "cell_type": "markdown",
   "metadata": {},
   "source": [
    "### <font color= 'yellow' > กรณีเก็บข้อมูลหลายชนิดใน List"
   ]
  },
  {
   "cell_type": "code",
   "execution_count": 7,
   "metadata": {},
   "outputs": [
    {
     "data": {
      "text/plain": [
       "name      object\n",
       "heigh      int64\n",
       "samary     int64\n",
       "dtype: object"
      ]
     },
     "execution_count": 7,
     "metadata": {},
     "output_type": "execute_result"
    }
   ],
   "source": [
    "import pandas as pd \n",
    "data = [\n",
    "        ['tanakorn',185,30000],['chockchai',184,28888],\n",
    "        ['bb',181,34444],['olay',170,32222]\n",
    "    ]\n",
    "colsname = ['name','heigh','samary']\n",
    "df = pd.DataFrame(data,columns=colsname)\n",
    "\n",
    "df.dtypes\n",
    "\n"
   ]
  },
  {
   "attachments": {},
   "cell_type": "markdown",
   "metadata": {},
   "source": [
    "#### <font color='yellow'>การสร้าง Dataframe จาก Dict"
   ]
  },
  {
   "cell_type": "code",
   "execution_count": 8,
   "metadata": {},
   "outputs": [
    {
     "data": {
      "text/html": [
       "<div>\n",
       "<style scoped>\n",
       "    .dataframe tbody tr th:only-of-type {\n",
       "        vertical-align: middle;\n",
       "    }\n",
       "\n",
       "    .dataframe tbody tr th {\n",
       "        vertical-align: top;\n",
       "    }\n",
       "\n",
       "    .dataframe thead th {\n",
       "        text-align: right;\n",
       "    }\n",
       "</style>\n",
       "<table border=\"1\" class=\"dataframe\">\n",
       "  <thead>\n",
       "    <tr style=\"text-align: right;\">\n",
       "      <th></th>\n",
       "      <th>name</th>\n",
       "      <th>heigh</th>\n",
       "    </tr>\n",
       "  </thead>\n",
       "  <tbody>\n",
       "    <tr>\n",
       "      <th>0</th>\n",
       "      <td>korn</td>\n",
       "      <td>185</td>\n",
       "    </tr>\n",
       "    <tr>\n",
       "      <th>1</th>\n",
       "      <td>mee</td>\n",
       "      <td>184</td>\n",
       "    </tr>\n",
       "    <tr>\n",
       "      <th>2</th>\n",
       "      <td>bb</td>\n",
       "      <td>181</td>\n",
       "    </tr>\n",
       "  </tbody>\n",
       "</table>\n",
       "</div>"
      ],
      "text/plain": [
       "   name  heigh\n",
       "0  korn    185\n",
       "1   mee    184\n",
       "2    bb    181"
      ]
     },
     "execution_count": 8,
     "metadata": {},
     "output_type": "execute_result"
    }
   ],
   "source": [
    "import pandas as pd \n",
    "\n",
    "data = [\n",
    "        {'name' :'korn','heigh':185},\n",
    "        {'name' :'mee','heigh':184},\n",
    "        {'name' :'bb','heigh':181}\n",
    "\n",
    "\n",
    "]\n",
    "df = pd.DataFrame(data)\n",
    "df"
   ]
  },
  {
   "attachments": {},
   "cell_type": "markdown",
   "metadata": {},
   "source": [
    "#### <font color='yellow'>การสร้าง Dataframe จาก Dict (เเบบที่ 2)"
   ]
  },
  {
   "cell_type": "code",
   "execution_count": 10,
   "metadata": {},
   "outputs": [
    {
     "data": {
      "text/html": [
       "<div>\n",
       "<style scoped>\n",
       "    .dataframe tbody tr th:only-of-type {\n",
       "        vertical-align: middle;\n",
       "    }\n",
       "\n",
       "    .dataframe tbody tr th {\n",
       "        vertical-align: top;\n",
       "    }\n",
       "\n",
       "    .dataframe thead th {\n",
       "        text-align: right;\n",
       "    }\n",
       "</style>\n",
       "<table border=\"1\" class=\"dataframe\">\n",
       "  <thead>\n",
       "    <tr style=\"text-align: right;\">\n",
       "      <th></th>\n",
       "      <th>name</th>\n",
       "      <th>hihgt</th>\n",
       "      <th>age</th>\n",
       "    </tr>\n",
       "  </thead>\n",
       "  <tbody>\n",
       "    <tr>\n",
       "      <th>0</th>\n",
       "      <td>korn</td>\n",
       "      <td>185</td>\n",
       "      <td>19</td>\n",
       "    </tr>\n",
       "    <tr>\n",
       "      <th>1</th>\n",
       "      <td>mee</td>\n",
       "      <td>184</td>\n",
       "      <td>21</td>\n",
       "    </tr>\n",
       "    <tr>\n",
       "      <th>2</th>\n",
       "      <td>bb</td>\n",
       "      <td>181</td>\n",
       "      <td>20</td>\n",
       "    </tr>\n",
       "  </tbody>\n",
       "</table>\n",
       "</div>"
      ],
      "text/plain": [
       "   name  hihgt  age\n",
       "0  korn    185   19\n",
       "1   mee    184   21\n",
       "2    bb    181   20"
      ]
     },
     "execution_count": 10,
     "metadata": {},
     "output_type": "execute_result"
    }
   ],
   "source": [
    "import pandas as pd \n",
    "person = ['korn', 'mee','bb']\n",
    "heigh = [185,184,181]\n",
    "age = [19,21,20]\n",
    "\n",
    "data = {\n",
    "        'name' : person,\n",
    "        'hihgt' : heigh,\n",
    "        'age' : age\n",
    "}\n",
    "\n",
    "df = pd.DataFrame(data)\n",
    "df"
   ]
  },
  {
   "attachments": {},
   "cell_type": "markdown",
   "metadata": {},
   "source": [
    "### <font color = 'red'>การรวม Dataframe เข้าด้วยกันโดยใช้ append()"
   ]
  },
  {
   "cell_type": "code",
   "execution_count": null,
   "metadata": {},
   "outputs": [],
   "source": [
    "import pandas as pd \n",
    "import numpy as np\n",
    "\n",
    "data1 =  [['tanakorn',185,30000],['chockchai',184,28888],\n",
    "        ['bb',181,34444],['olay',170,32222]]\n",
    "\n",
    "data2 = [['tem',184,24400],\n",
    "         ['kim',171,13333]\n",
    "         ]\n",
    "\n",
    "\n",
    "colsname = ['name','heigh','samary']\n",
    "\n",
    "df1= pd.DataFrame(data1,columns=colsname)\n",
    "df2= pd.DataFrame(data2,columns=colsname)\n",
    "\n",
    "df =df1.append(df2,ignore_index =True)\n",
    "\n",
    "\n",
    "\n"
   ]
  },
  {
   "attachments": {},
   "cell_type": "markdown",
   "metadata": {},
   "source": [
    "### <font color = 'red'>ปัจจุบันใช้ append ไม่ได้เเล้ว ต้องใช้ <b>concat()</b> เเทน"
   ]
  },
  {
   "attachments": {},
   "cell_type": "markdown",
   "metadata": {},
   "source": [
    " >> concat สามารถกำหนดค่า Index ได้เอง"
   ]
  },
  {
   "cell_type": "code",
   "execution_count": 2,
   "metadata": {},
   "outputs": [
    {
     "data": {
      "text/html": [
       "<div>\n",
       "<style scoped>\n",
       "    .dataframe tbody tr th:only-of-type {\n",
       "        vertical-align: middle;\n",
       "    }\n",
       "\n",
       "    .dataframe tbody tr th {\n",
       "        vertical-align: top;\n",
       "    }\n",
       "\n",
       "    .dataframe thead th {\n",
       "        text-align: right;\n",
       "    }\n",
       "</style>\n",
       "<table border=\"1\" class=\"dataframe\">\n",
       "  <thead>\n",
       "    <tr style=\"text-align: right;\">\n",
       "      <th></th>\n",
       "      <th>name</th>\n",
       "      <th>heigh</th>\n",
       "      <th>samary</th>\n",
       "      <th>address</th>\n",
       "    </tr>\n",
       "  </thead>\n",
       "  <tbody>\n",
       "    <tr>\n",
       "      <th>3</th>\n",
       "      <td>tanakorn</td>\n",
       "      <td>185</td>\n",
       "      <td>30000</td>\n",
       "      <td>NaN</td>\n",
       "    </tr>\n",
       "    <tr>\n",
       "      <th>4</th>\n",
       "      <td>chockchai</td>\n",
       "      <td>184</td>\n",
       "      <td>28888</td>\n",
       "      <td>NaN</td>\n",
       "    </tr>\n",
       "    <tr>\n",
       "      <th>5</th>\n",
       "      <td>bb</td>\n",
       "      <td>181</td>\n",
       "      <td>34444</td>\n",
       "      <td>NaN</td>\n",
       "    </tr>\n",
       "    <tr>\n",
       "      <th>6</th>\n",
       "      <td>olay</td>\n",
       "      <td>170</td>\n",
       "      <td>32222</td>\n",
       "      <td>NaN</td>\n",
       "    </tr>\n",
       "    <tr>\n",
       "      <th>1</th>\n",
       "      <td>tem</td>\n",
       "      <td>184</td>\n",
       "      <td>24400</td>\n",
       "      <td>บางกอก</td>\n",
       "    </tr>\n",
       "    <tr>\n",
       "      <th>2</th>\n",
       "      <td>kim</td>\n",
       "      <td>171</td>\n",
       "      <td>13333</td>\n",
       "      <td>ดินเเดง</td>\n",
       "    </tr>\n",
       "  </tbody>\n",
       "</table>\n",
       "</div>"
      ],
      "text/plain": [
       "        name  heigh  samary  address\n",
       "3   tanakorn    185   30000      NaN\n",
       "4  chockchai    184   28888      NaN\n",
       "5         bb    181   34444      NaN\n",
       "6       olay    170   32222      NaN\n",
       "1        tem    184   24400   บางกอก\n",
       "2        kim    171   13333  ดินเเดง"
      ]
     },
     "execution_count": 2,
     "metadata": {},
     "output_type": "execute_result"
    }
   ],
   "source": [
    "import pandas as pd \n",
    "import numpy as np\n",
    "\n",
    "data1 =  [['tanakorn',185,30000],['chockchai',184,28888],\n",
    "        ['bb',181,34444],['olay',170,32222]]\n",
    "\n",
    "data2 = [['tem',184,24400,'บางกอก'],\n",
    "         ['kim',171,13333,'ดินเเดง']\n",
    "         ]\n",
    "\n",
    "\n",
    "colsname1 = ['name','heigh','samary']\n",
    "colsname2 = ['name','heigh','samary','address']\n",
    "\n",
    "df1= pd.DataFrame(data1,columns=colsname1,index=[3,4,5,6])\n",
    "df2= pd.DataFrame(data2,columns=colsname2,index=[1,2])\n",
    "\n",
    "df = pd.concat([df1,df2])\n",
    "\n",
    "df\n"
   ]
  },
  {
   "attachments": {},
   "cell_type": "markdown",
   "metadata": {},
   "source": [
    "<font color= 'yellow' > การรวม Dataframe ตามเเนวคอลลั่มน์"
   ]
  },
  {
   "cell_type": "code",
   "execution_count": 11,
   "metadata": {},
   "outputs": [
    {
     "data": {
      "text/html": [
       "<div>\n",
       "<style scoped>\n",
       "    .dataframe tbody tr th:only-of-type {\n",
       "        vertical-align: middle;\n",
       "    }\n",
       "\n",
       "    .dataframe tbody tr th {\n",
       "        vertical-align: top;\n",
       "    }\n",
       "\n",
       "    .dataframe thead th {\n",
       "        text-align: right;\n",
       "    }\n",
       "</style>\n",
       "<table border=\"1\" class=\"dataframe\">\n",
       "  <thead>\n",
       "    <tr style=\"text-align: right;\">\n",
       "      <th></th>\n",
       "      <th>customerID</th>\n",
       "      <th>Fullname</th>\n",
       "      <th>salarly</th>\n",
       "    </tr>\n",
       "  </thead>\n",
       "  <tbody>\n",
       "    <tr>\n",
       "      <th>1</th>\n",
       "      <td>101</td>\n",
       "      <td>Tanakorn</td>\n",
       "      <td>49999</td>\n",
       "    </tr>\n",
       "    <tr>\n",
       "      <th>2</th>\n",
       "      <td>102</td>\n",
       "      <td>chochchai</td>\n",
       "      <td>34444</td>\n",
       "    </tr>\n",
       "    <tr>\n",
       "      <th>3</th>\n",
       "      <td>103</td>\n",
       "      <td>napat</td>\n",
       "      <td>52222</td>\n",
       "    </tr>\n",
       "  </tbody>\n",
       "</table>\n",
       "</div>"
      ],
      "text/plain": [
       "   customerID   Fullname  salarly\n",
       "1         101   Tanakorn    49999\n",
       "2         102  chochchai    34444\n",
       "3         103      napat    52222"
      ]
     },
     "execution_count": 11,
     "metadata": {},
     "output_type": "execute_result"
    }
   ],
   "source": [
    "import pandas as pd \n",
    "\n",
    "data1 = {\n",
    "        'customerID':[101,102,103],\n",
    "        'Fullname': ['Tanakorn','chochchai','napat']\n",
    "}\n",
    "\n",
    "\n",
    "data2 = {\n",
    "        'salarly':[49999,34444,52222]\n",
    "}\n",
    "\n",
    "df1 = pd.DataFrame(data1,index=[1,2,3])\n",
    "df2 = pd.DataFrame(data2,index=[1,2,3])\n",
    "\n",
    "\n",
    "result = pd.concat([df1,df2],axis=1) ## เป็นการต่อในเเนวนอน Axis = 1\n",
    "result\n"
   ]
  },
  {
   "attachments": {},
   "cell_type": "markdown",
   "metadata": {},
   "source": [
    "### <font color= 'yellow'>การเข้าถึงข้อมูลด้วยใน dataframe ด้วย log"
   ]
  },
  {
   "cell_type": "code",
   "execution_count": 57,
   "metadata": {},
   "outputs": [
    {
     "data": {
      "text/plain": [
       "customerID          102\n",
       "Fullname      chochchai\n",
       "Name: 2, dtype: object"
      ]
     },
     "execution_count": 57,
     "metadata": {},
     "output_type": "execute_result"
    }
   ],
   "source": [
    "import pandas as pd \n",
    "\n",
    "data1 = {\n",
    "        'customerID':[101,102,103],\n",
    "        'Fullname': ['Tanakorn','chochchai','napat']\n",
    "}\n",
    "\n",
    "\n",
    "data2 = {\n",
    "        'salarly':[49999,34444,52222]\n",
    "}\n",
    "\n",
    "df1 = pd.DataFrame(data1,index=[1,2,3])\n",
    "df2 = pd.DataFrame(data2,index=[1,2,3])\n",
    "\n",
    "\n",
    "result = pd.concat([df1,df2],axis=1) ## เป็นการต่อในเเนวนอน Axis = 1\n",
    "##result.iloc[[False,False,True]]\n",
    "result.iloc[1,[0,1]] \n",
    "# df = result.iloc[result['salarly']>30000]\n",
    "# df\n",
    "\n"
   ]
  },
  {
   "cell_type": "code",
   "execution_count": null,
   "metadata": {},
   "outputs": [],
   "source": []
  }
 ],
 "metadata": {
  "kernelspec": {
   "display_name": "Python 3",
   "language": "python",
   "name": "python3"
  },
  "language_info": {
   "codemirror_mode": {
    "name": "ipython",
    "version": 3
   },
   "file_extension": ".py",
   "mimetype": "text/x-python",
   "name": "python",
   "nbconvert_exporter": "python",
   "pygments_lexer": "ipython3",
   "version": "3.10.5"
  },
  "orig_nbformat": 4
 },
 "nbformat": 4,
 "nbformat_minor": 2
}
