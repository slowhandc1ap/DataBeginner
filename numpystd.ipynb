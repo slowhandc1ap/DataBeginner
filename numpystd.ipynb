{
 "cells": [
  {
   "attachments": {},
   "cell_type": "markdown",
   "metadata": {},
   "source": [
    "###  <font color='red'>การตรวจสอบชนิดข้อมูลพื้นฐานใน Arry ของ numpy</font>  "
   ]
  },
  {
   "attachments": {},
   "cell_type": "markdown",
   "metadata": {},
   "source": [
    " #### ไว้ใช้ตรวจข้อมูลใน อาเรย์ โดยใช .dtype"
   ]
  },
  {
   "cell_type": "code",
   "execution_count": null,
   "metadata": {},
   "outputs": [],
   "source": [
    "import numpy as np\n",
    "\n",
    "data = [1,2,3,4,5]\n",
    "arr = np.array(data)\n",
    "print('--------------------')\n",
    "print(arr.dtype)\n",
    "print(type(arr))"
   ]
  },
  {
   "attachments": {},
   "cell_type": "markdown",
   "metadata": {},
   "source": [
    "ถ้าไม่ใช่เลขจำนวนเต็มเเต่เป็นทศนิยมล่ะ"
   ]
  },
  {
   "cell_type": "code",
   "execution_count": null,
   "metadata": {},
   "outputs": [],
   "source": [
    "data = [1,2.4,3.1,4,5]\n",
    "arr = np.array(data)\n",
    "print('--------------------')\n",
    "print(arr.dtype)\n",
    "print(type(arr))"
   ]
  },
  {
   "attachments": {},
   "cell_type": "markdown",
   "metadata": {},
   "source": [
    "เเล้วถ้าเป็นสตริงล่ะ"
   ]
  },
  {
   "cell_type": "code",
   "execution_count": null,
   "metadata": {},
   "outputs": [],
   "source": [
    "data = ['welcome','to','python']\n",
    "arr = np.array(data)\n",
    "print('--------------------')\n",
    "print(arr.dtype)\n",
    "print(type(arr))"
   ]
  },
  {
   "attachments": {},
   "cell_type": "markdown",
   "metadata": {},
   "source": [
    "## <font color ='yellow'>การเเปลงข้อมูลในอาเรย์</font> "
   ]
  },
  {
   "attachments": {},
   "cell_type": "markdown",
   "metadata": {},
   "source": [
    " #### ** ถ้าเปลี่ยนเป็น float ให้ใช้ float64  โดยใช้คำสั่ง np.float64 , np.int32"
   ]
  },
  {
   "cell_type": "code",
   "execution_count": null,
   "metadata": {},
   "outputs": [],
   "source": [
    "data = [20,40,60,80,100]\n",
    "arr = np.array(data,np.float64)\n",
    "\n",
    "print(arr)\n"
   ]
  },
  {
   "cell_type": "code",
   "execution_count": null,
   "metadata": {},
   "outputs": [],
   "source": [
    "data = [20.555,40,60,80,100]\n",
    "arr = np.array(data,np.int32)\n",
    "\n",
    "print(arr)"
   ]
  },
  {
   "attachments": {},
   "cell_type": "markdown",
   "metadata": {},
   "source": [
    "## <font color='yellow'> การหาค่าเฉลี่ย ค่าสูงเเละค่าต่ำสุดของ numpy</font>"
   ]
  },
  {
   "attachments": {},
   "cell_type": "markdown",
   "metadata": {},
   "source": [
    "<font color ='pink'> ค่าเฉลี่ย : mean() <br>\n",
    "ค่าสูงสุด : max()<br>\n",
    "ค่าต่ำสุด : min() </font>"
   ]
  },
  {
   "cell_type": "code",
   "execution_count": null,
   "metadata": {},
   "outputs": [],
   "source": [
    "import numpy as np \n",
    "\n",
    "data = [32,11,85,66,97]\n",
    "\n",
    "print('ค่าเฉลี่ย : ',np.mean(data))\n",
    "print('ค่าสูงสุด : ',np.max(data))\n",
    "print('ค่าต่ำสุด : ',np.min(data))"
   ]
  },
  {
   "attachments": {},
   "cell_type": "markdown",
   "metadata": {},
   "source": [
    " ### <font color = 'yellow'>การสุมตัวเลข จำนวนเต็ม ใช้ฟังก์ชั่น randint()</font>\n"
   ]
  },
  {
   "attachments": {},
   "cell_type": "markdown",
   "metadata": {},
   "source": [
    " >><font color ='red'>ต้อง</font> import random as rd \n"
   ]
  },
  {
   "cell_type": "code",
   "execution_count": null,
   "metadata": {},
   "outputs": [],
   "source": [
    "import random as rd\n",
    "\n",
    "data = rd.randint(1,99)\n",
    "print(data)"
   ]
  },
  {
   "attachments": {},
   "cell_type": "markdown",
   "metadata": {},
   "source": [
    "ถ้าไม่กำหนดตัวเริ่มจะเริ่มที่ 0 \n"
   ]
  },
  {
   "attachments": {},
   "cell_type": "markdown",
   "metadata": {},
   "source": [
    "ถ้าเป็น randrange จะสามารถใส่ค่าโพซั่นที่ 3 ได้ หมายถึงเป็นตัวทวีคูณ"
   ]
  },
  {
   "cell_type": "code",
   "execution_count": null,
   "metadata": {},
   "outputs": [],
   "source": [
    "import random as rd\n",
    "\n",
    "data = rd.randrange(0,20,5)\n",
    "print(data)"
   ]
  },
  {
   "attachments": {},
   "cell_type": "markdown",
   "metadata": {},
   "source": [
    "### <font color='yellow'>การใช้ลูปสุ่มตัวเลข</font>"
   ]
  },
  {
   "cell_type": "code",
   "execution_count": null,
   "metadata": {},
   "outputs": [],
   "source": [
    "import random as rd\n",
    "import numpy as np\n",
    "data =[]\n",
    "for i in range(0,10):\n",
    "    data.append(rd.randint(1,100))\n",
    "\n",
    "print('----------------------')\n",
    "print(data)\n",
    "print(type(data))\n",
    "\n",
    "arr = np.array(data)\n",
    "print(arr)\n",
    "print(type(arr))\n",
    "print(arr[1])"
   ]
  },
  {
   "attachments": {},
   "cell_type": "markdown",
   "metadata": {},
   "source": [
    "# <font color='red' >การสร้าง Array 2 D</font>"
   ]
  },
  {
   "cell_type": "code",
   "execution_count": null,
   "metadata": {},
   "outputs": [],
   "source": [
    "import numpy as np\n",
    "arr= np.array([\n",
    "    [10,20,30],\n",
    "    [100,200,300]\n",
    "])\n",
    "\n",
    "result = np.sum(arr)\n",
    "print(result)"
   ]
  },
  {
   "attachments": {},
   "cell_type": "markdown",
   "metadata": {},
   "source": [
    "### <font color='yellow'> การหาผลรวมของ Array เเนวตั้ง  เเกน Y  หรือเเถว </font>"
   ]
  },
  {
   "attachments": {},
   "cell_type": "markdown",
   "metadata": {},
   "source": [
    ">> ให้ใส่  axis = 0"
   ]
  },
  {
   "cell_type": "code",
   "execution_count": null,
   "metadata": {},
   "outputs": [],
   "source": [
    "import numpy as np\n",
    "arr= np.array([\n",
    "    [10,20,30],\n",
    "    [100,200,300]\n",
    "])\n",
    "\n",
    "result = np.sum(arr,axis = 0)\n",
    "print(result)"
   ]
  },
  {
   "attachments": {},
   "cell_type": "markdown",
   "metadata": {},
   "source": [
    "### <font color='yellow'> การหาผลรวมของ Array เเนวนอน  เเกน X  หรือคอลลั่ม </font>"
   ]
  },
  {
   "attachments": {},
   "cell_type": "markdown",
   "metadata": {},
   "source": [
    ">> ให้ใส่  axis = 1\n"
   ]
  },
  {
   "cell_type": "code",
   "execution_count": null,
   "metadata": {},
   "outputs": [],
   "source": [
    "import numpy as np\n",
    "arr= np.array([\n",
    "    [10,20,30],\n",
    "    [100,200,300]\n",
    "])\n",
    "\n",
    "result = np.sum(arr,axis = 1)\n",
    "print(result)"
   ]
  },
  {
   "attachments": {},
   "cell_type": "markdown",
   "metadata": {},
   "source": [
    "### <font color='yellow' > การเลือกข้อมูลเเบบเป็นช่วงใน Array 1 มิติ </font>"
   ]
  },
  {
   "attachments": {},
   "cell_type": "markdown",
   "metadata": {},
   "source": [
    "<font color='pink'>โดยระบุช่วงในอาเรย์ เช่น <font color = 'red'>[1:]</font> คือเอาตัวเลข ในตำเเหน่งอาเรย์ที่ 1 ขึ้นไป คือไม่เอาตำเเหน่งที่ 0 <br>\n",
    "                    <font color = 'red'>[:2] </font>คือเอาเเค่ตัวเลข ในตำเเหน่งอาเยร์ที่ไม่เกิน 2 คือเอาเเค่ ตำเเหน่ง 0 เเละ 1"
   ]
  },
  {
   "cell_type": "code",
   "execution_count": null,
   "metadata": {},
   "outputs": [],
   "source": [
    "import numpy as np\n",
    "arr = np.array([100,200,300,400])\n",
    "\n",
    "print(arr[1:])"
   ]
  },
  {
   "cell_type": "code",
   "execution_count": null,
   "metadata": {},
   "outputs": [],
   "source": [
    "import numpy as np\n",
    "arr = np.array([100,200,300,400])\n",
    "\n",
    "print(arr[:2])"
   ]
  },
  {
   "cell_type": "code",
   "execution_count": null,
   "metadata": {},
   "outputs": [],
   "source": [
    "import numpy as np\n",
    "arr = np.array([100,200,300,400])\n",
    "\n",
    "print(arr[1:3])"
   ]
  },
  {
   "attachments": {},
   "cell_type": "markdown",
   "metadata": {},
   "source": [
    "### <font color= 'yellow'> การเลือกข้อมูลเป็นตำเเหน่งเเละช่วง จากอาเรย์ 2 มิติ"
   ]
  },
  {
   "attachments": {},
   "cell_type": "markdown",
   "metadata": {},
   "source": [
    " >> กรณีระบุตำเเหน่งหลายตัว ให้อ้างอิงโดยใช้ [0,2] โดยตำเเหน่งเเรกคือ เเถว เเละ หลังคือ คอลั่ม"
   ]
  },
  {
   "cell_type": "code",
   "execution_count": null,
   "metadata": {},
   "outputs": [],
   "source": [
    "import numpy as np\n",
    "arr = np.array([[100,200,300,400],\n",
    "                [1000,2000,3000,4000]])\n",
    "\n",
    "print(arr[1,3])"
   ]
  },
  {
   "attachments": {},
   "cell_type": "markdown",
   "metadata": {},
   "source": [
    ">> การระบุเป็นช่วง ให้ใช้ [1:,:2] ลำดับเเรกอ้างว่าจะให้เริ่มจากเเถวที่เท่าไร ลำดับสองคือให้เริ่มจากตำเเหน่งคอลลั่มที่เท่าไร"
   ]
  },
  {
   "cell_type": "code",
   "execution_count": null,
   "metadata": {},
   "outputs": [],
   "source": [
    "import numpy as np\n",
    "arr = np.array([[100,200,300,400],\n",
    "                [1000,2000,3000,4000],\n",
    "                [80,70,60,50],\n",
    "                [0,1,2,3]])\n",
    "\n",
    "print(arr[1:,2:])"
   ]
  },
  {
   "attachments": {},
   "cell_type": "markdown",
   "metadata": {},
   "source": [
    "# <font color = 'red' > การรวม Array ด้วยฟังก์ชั่น append() </font>"
   ]
  },
  {
   "attachments": {},
   "cell_type": "markdown",
   "metadata": {},
   "source": []
  },
  {
   "cell_type": "code",
   "execution_count": null,
   "metadata": {},
   "outputs": [],
   "source": [
    "import numpy as np\n",
    "arr1 = np.array([[100,200],[300,400]])\n",
    "arr2 = np.array([[500,600],[900,800]])\n",
    "\n",
    "arr = np.append(arr1,arr2)\n",
    "print(arr)"
   ]
  },
  {
   "attachments": {},
   "cell_type": "markdown",
   "metadata": {},
   "source": [
    "#### <font color= 'pink'>วิธีการรวม Arrray ตามเเนวเเกน X เเละ Y <br>\n",
    "หากให้รวมตามเเกน x ให้กำหนด axis = 1 <br>\n",
    "หากให้รวมตามเเกน y ให้กำหนด axis = 0</font>"
   ]
  },
  {
   "cell_type": "code",
   "execution_count": null,
   "metadata": {},
   "outputs": [],
   "source": [
    "import numpy as np\n",
    "arr1 = np.array([[100,200],[300,400]])\n",
    "arr2 = np.array([[500,600],[900,800]])\n",
    "\n",
    "arr = np.append(arr1,arr2,axis=1)\n",
    "print(arr)"
   ]
  },
  {
   "cell_type": "code",
   "execution_count": null,
   "metadata": {},
   "outputs": [],
   "source": []
  }
 ],
 "metadata": {
  "kernelspec": {
   "display_name": "Python 3",
   "language": "python",
   "name": "python3"
  },
  "language_info": {
   "codemirror_mode": {
    "name": "ipython",
    "version": 3
   },
   "file_extension": ".py",
   "mimetype": "text/x-python",
   "name": "python",
   "nbconvert_exporter": "python",
   "pygments_lexer": "ipython3",
   "version": "3.10.5"
  },
  "orig_nbformat": 4
 },
 "nbformat": 4,
 "nbformat_minor": 2
}
